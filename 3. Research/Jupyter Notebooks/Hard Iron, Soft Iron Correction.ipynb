{
 "cells": [
  {
   "cell_type": "markdown",
   "metadata": {},
   "source": [
    "## Establishing Magnetometer Accuray"
   ]
  },
  {
   "cell_type": "markdown",
   "metadata": {},
   "source": [
    "First step is establishing a goal for magnetometer accuracy  \n",
    "$\\beta_e = mag_{horizontal}sin(heading)$  \n",
    "  \n",
    "Current flowing through Sensor is a possible source of interference which can be modeled as:  \n",
    "$\\beta_s = \\frac{\\mu_oIs}{2\\pi r}= \\frac{2Is}{r}$ (single wire)\n",
    "\n",
    "### 2 Axis Visualisation\n",
    "goal is to determine solution to the following equation:  \n",
    "$\\begin{bmatrix} M_{xc}\\\\ M_{yc} \\end{bmatrix}=\\begin{bmatrix} s_{11} & s_{12} \\\\ s_{21} & s_{22} \\end{bmatrix}\\begin{bmatrix} M_x \\\\ M_y \\end{bmatrix}+\\begin{bmatrix} H_x \\\\ H_y \\end{bmatrix}$ where $s_{11}$ and $s_{22}$ correct for scale and $s_{12}$ and $s_{21}$ correct for skewed angle. $H_x \\& H_y $ are Hard Iron Errors  \n"
   ]
  },
  {
   "cell_type": "code",
   "execution_count": null,
   "metadata": {},
   "outputs": [],
   "source": []
  },
  {
   "cell_type": "code",
   "execution_count": null,
   "metadata": {},
   "outputs": [],
   "source": []
  }
 ],
 "metadata": {
  "kernelspec": {
   "display_name": "Python 3",
   "language": "python",
   "name": "python3"
  },
  "language_info": {
   "codemirror_mode": {
    "name": "ipython",
    "version": 3
   },
   "file_extension": ".py",
   "mimetype": "text/x-python",
   "name": "python",
   "nbconvert_exporter": "python",
   "pygments_lexer": "ipython3",
   "version": "3.7.3"
  }
 },
 "nbformat": 4,
 "nbformat_minor": 2
}
